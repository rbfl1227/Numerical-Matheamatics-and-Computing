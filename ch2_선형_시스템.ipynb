{
  "nbformat": 4,
  "nbformat_minor": 0,
  "metadata": {
    "colab": {
      "provenance": [],
      "authorship_tag": "ABX9TyO5SdZsrBV7uyEK/ILCOEqK",
      "include_colab_link": true
    },
    "kernelspec": {
      "name": "python3",
      "display_name": "Python 3"
    },
    "language_info": {
      "name": "python"
    }
  },
  "cells": [
    {
      "cell_type": "markdown",
      "metadata": {
        "id": "view-in-github",
        "colab_type": "text"
      },
      "source": [
        "<a href=\"https://colab.research.google.com/github/rbfl1227/Numerical-Matheamatics-and-Computing/blob/main/ch2_%EC%84%A0%ED%98%95_%EC%8B%9C%EC%8A%A4%ED%85%9C.ipynb\" target=\"_parent\"><img src=\"https://colab.research.google.com/assets/colab-badge.svg\" alt=\"Open In Colab\"/></a>"
      ]
    },
    {
      "cell_type": "markdown",
      "source": [
        "### **2.1 순수 가우스 소거법**"
      ],
      "metadata": {
        "id": "VmS0PkGk0znD"
      }
    },
    {
      "cell_type": "code",
      "execution_count": 2,
      "metadata": {
        "id": "_SMcQcVjpFPT"
      },
      "outputs": [],
      "source": [
        "import numpy as np"
      ]
    },
    {
      "cell_type": "code",
      "source": [
        "def naive_gauss(A, b):\n",
        "    \"\"\"\n",
        "    순수 가우스 소거법 (Naive Gauss)\n",
        "    A: 계수 행렬 (n x n)\n",
        "    b: 상수 벡터 (n x 1)\n",
        "    \"\"\"\n",
        "    n = len(A)\n",
        "    A = A.astype(float)\n",
        "    b = b.astype(float)\n",
        "\n",
        "    for k in range(n-1):\n",
        "        for i in range(k+1, n):\n",
        "            xmult = A[i, k] / A[k, k]\n",
        "            A[i, k] = xmult\n",
        "            for j in range(k+1, n):\n",
        "                A[i, j] -= xmult * A[k, j]\n",
        "            b[i] -= xmult * b[k]\n",
        "\n",
        "    x = np.zeros(n)\n",
        "    for i in range(n-1, -1, -1):\n",
        "        sum_ = b[i]\n",
        "        for j in range(i+1, n):\n",
        "            sum_ -= A[i, j] * x[j]\n",
        "        x[i] = sum_ / A[i, i]\n",
        "\n",
        "    return x\n"
      ],
      "metadata": {
        "id": "_pURZEtkxoOl"
      },
      "execution_count": 16,
      "outputs": []
    },
    {
      "cell_type": "code",
      "source": [
        "#1\n",
        "def naive_gauss(n, A, b):\n",
        "    \"\"\"\n",
        "    순수 가우스 소거법(Naive Gauss)\n",
        "    A: 계수 행렬 (n x n)\n",
        "    b: 상수 벡터 (n x 1)\n",
        "    \"\"\"\n",
        "    A = A.astype(float)\n",
        "    b = b.astype(float)\n",
        "\n",
        "    for k in range(n-1):\n",
        "        for i in range(k+1, n):\n",
        "            xmult = A[i, k] / A[k, k]\n",
        "            A[i, k] = xmult\n",
        "            for j in range(k+1, n):\n",
        "                A[i, j] -= xmult * A[k, j]\n",
        "            b[i] -= xmult * b[k]\n",
        "\n",
        "    x = np.zeros(n)\n",
        "    x[n-1] = b[n-1] / A[n-1, n-1]\n",
        "    for i in range(n-2, -1, -1):\n",
        "        sum_ = b[i]\n",
        "        for j in range(i+1, n):\n",
        "            sum_ -= A[i, j] * x[j]\n",
        "        x[i] = sum_ / A[i, i]\n",
        "\n",
        "    return x\n",
        "\n",
        "    def test_nge():\n",
        "      for n in range(4, 11):  # n = 4,5,6,7,8,9,10 테스트\n",
        "          A = np.zeros((n, n))\n",
        "          b = np.zeros(n)\n",
        "\n",
        "          for i in range(n):\n",
        "            for j in range(n):\n",
        "                A[i, j] = 1 / (i + j + 1)\n",
        "            b[i] = ((1 + i) ** n - 1) / i if i != 0 else 0\n",
        "\n",
        "          print(\"\\n======================================\")\n",
        "          print(f\"테스트 중: n = {n}\")\n",
        "          x = naive_gauss(n, A, b)\n",
        "          print(f\"n = {n}, 해: {x}\")\n",
        "          print(\"======================================\\n\")\n",
        "\n",
        "    test_nge()\n"
      ],
      "metadata": {
        "id": "AiOAC4wp3p7c"
      },
      "execution_count": 17,
      "outputs": []
    },
    {
      "cell_type": "code",
      "source": [
        "#3\n",
        "n = 4\n",
        "A = np.zeros((n, n))\n",
        "b = np.zeros(n)\n",
        "for i in range(n):\n",
        "    for j in range(n):\n",
        "        A[i, j] = i + j\n",
        "    b[i] = i + 1\n",
        "\n",
        "after_A, indices = gauss(n, A)\n",
        "x = solve(n, after_A, indices, b)\n",
        "print(\"3번 문제: n=4에 대한 해 x:\")\n",
        "print(x)"
      ],
      "metadata": {
        "colab": {
          "base_uri": "https://localhost:8080/"
        },
        "id": "3j-0XDTk8T-1",
        "outputId": "1cbb826c-ef57-4261-fba9-ecea2bb74a5d"
      },
      "execution_count": 22,
      "outputs": [
        {
          "output_type": "stream",
          "name": "stdout",
          "text": [
            "3번 문제: n=4에 대한 해 x:\n",
            "[       -inf 15.94444444 -4.05555556 -2.27777778]\n"
          ]
        },
        {
          "output_type": "stream",
          "name": "stderr",
          "text": [
            "<ipython-input-20-3e08216216d2>:20: RuntimeWarning: divide by zero encountered in scalar divide\n",
            "  x[i] = sum_ / A[l[i], i]\n"
          ]
        }
      ]
    },
    {
      "cell_type": "code",
      "source": [
        "#5\n",
        "n = 3\n",
        "A = np.array([[2, -1, 1],\n",
        "              [3, 3, 9],\n",
        "              [3, 3, 5]], dtype=float)\n",
        "b = np.array([2, -1, 4], dtype=float)\n",
        "\n",
        "after_A, indices = gauss(n, A)\n",
        "if after_A is not None:\n",
        "    x = solve(n, after_A, indices, b)\n",
        "    print(\"5번 문제: 해 x:\")\n",
        "    print(x)"
      ],
      "metadata": {
        "colab": {
          "base_uri": "https://localhost:8080/"
        },
        "id": "dlpD0j1t8lnI",
        "outputId": "505e014b-df5f-4998-cb3b-394cd99e7c15"
      },
      "execution_count": 23,
      "outputs": [
        {
          "output_type": "stream",
          "name": "stdout",
          "text": [
            "5번 문제: 해 x:\n",
            "[ 7.57142857 10.71428571 -2.42857143]\n"
          ]
        }
      ]
    },
    {
      "cell_type": "markdown",
      "source": [
        "### **2.2 비례 조정 부분 피벗팅**"
      ],
      "metadata": {
        "id": "MXm6Qz8025q8"
      }
    },
    {
      "cell_type": "code",
      "source": [
        "import numpy as np"
      ],
      "metadata": {
        "id": "65wDQIlw6Q8S"
      },
      "execution_count": 18,
      "outputs": []
    },
    {
      "cell_type": "code",
      "source": [
        "def gauss(n, A):\n",
        "    \"\"\"\n",
        "    비례 조정 부분 피벗팅을 사용한 가우스 소거법\n",
        "    A: 계수 행렬 (n x n)\n",
        "    \"\"\"\n",
        "    A = A.astype(float)\n",
        "    l = np.arange(n)  # 인덱스 배열\n",
        "    s = np.zeros(n)  # 비례 조정을 위한 배열\n",
        "\n",
        "    # 비례 조정 스케일링 벡터 초기화\n",
        "    for i in range(n):\n",
        "        smax = 0\n",
        "        for j in range(n):\n",
        "            smax = max(smax, abs(A[i, j]))\n",
        "        s[i] = smax\n",
        "\n",
        "    # 전진 소거\n",
        "    for k in range(n-1):\n",
        "        rmax = 0\n",
        "        for i in range(k, n):\n",
        "            r = abs(A[i, k] / s[i])\n",
        "            if r > rmax:\n",
        "                rmax = r\n",
        "                max_index = i\n",
        "\n",
        "        # 행 교환\n",
        "        l[k], l[max_index] = l[max_index], l[k]\n",
        "        A[[k, max_index]] = A[[max_index, k]]\n",
        "\n",
        "        for i in range(k+1, n):\n",
        "            xmult = A[i, k] / A[k, k]\n",
        "            A[i, k] = xmult\n",
        "            for j in range(k+1, n):\n",
        "                A[i, j] -= xmult * A[k, j]\n",
        "\n",
        "    return A, l\n"
      ],
      "metadata": {
        "id": "bLWte6QU2_N6"
      },
      "execution_count": 19,
      "outputs": []
    },
    {
      "cell_type": "code",
      "source": [
        "def solve(n, A, l, b):\n",
        "    \"\"\"\n",
        "    역대입을 수행하여 해를 구하는 함수\n",
        "    A: 가우스 소거법을 적용한 행렬\n",
        "    l: 행 교환 인덱스 배열\n",
        "    b: 상수 벡터\n",
        "    \"\"\"\n",
        "    # 순서를 반영한 b 벡터 조정\n",
        "    for k in range(n-1):\n",
        "        for i in range(k+1, n):\n",
        "            b[l[i]] -= A[l[i], k] * b[l[k]]\n",
        "\n",
        "    # 역대입 과정\n",
        "    x = np.zeros(n)\n",
        "    x[n-1] = b[l[n-1]] / A[l[n-1], n-1]\n",
        "    for i in range(n-2, -1, -1):\n",
        "        sum_ = b[l[i]]\n",
        "        for j in range(i+1, n):\n",
        "            sum_ -= A[l[i], j] * x[j]\n",
        "        x[i] = sum_ / A[l[i], i]\n",
        "\n",
        "    return x"
      ],
      "metadata": {
        "id": "addgzapj6pAS"
      },
      "execution_count": 20,
      "outputs": []
    },
    {
      "cell_type": "code",
      "source": [
        "A = np.array([[3, -0.1, -0.2],\n",
        "              [0.1, 7, -0.3],\n",
        "              [0.3, -0.2, 10]], dtype=float)\n",
        "b = np.array([7.85, -19.3, 71.4], dtype=float)\n",
        "\n",
        "after_A, indices = gauss(len(A), A)\n",
        "x = solve(len(A), after_A, indices, b)\n",
        "\n",
        "print(\"비례 조정 후 행렬 A:\")\n",
        "print(after_A)\n",
        "print(\"인덱스 배열:\")\n",
        "print(indices)\n",
        "print(\"해 x:\")\n",
        "print(x)\n"
      ],
      "metadata": {
        "colab": {
          "base_uri": "https://localhost:8080/"
        },
        "id": "ImNi9sOG6ynh",
        "outputId": "2494d8eb-1a22-43db-96c8-8309482e62a0"
      },
      "execution_count": 21,
      "outputs": [
        {
          "output_type": "stream",
          "name": "stdout",
          "text": [
            "비례 조정 후 행렬 A:\n",
            "[[ 3.         -0.1        -0.2       ]\n",
            " [ 0.03333333  7.00333333 -0.29333333]\n",
            " [ 0.1        -0.02712994 10.01204188]]\n",
            "인덱스 배열:\n",
            "[0 1 2]\n",
            "해 x:\n",
            "[ 3.  -2.5  7. ]\n"
          ]
        }
      ]
    },
    {
      "cell_type": "code",
      "source": [],
      "metadata": {
        "id": "MJ--61319fcI"
      },
      "execution_count": null,
      "outputs": []
    },
    {
      "cell_type": "markdown",
      "source": [
        "### **2.3 3중 대각 시스템과 밴드 시스템**"
      ],
      "metadata": {
        "id": "yo261t8G2_oH"
      }
    },
    {
      "cell_type": "code",
      "source": [
        "def tri(n, a, d, c, b):\n",
        "    \"\"\"\n",
        "    3중 대각 행렬 시스템을 푸는 알고리즘 (TDMA)\n",
        "    a: 아랫 대각 요소 (n-1)\n",
        "    d: 주 대각 요소 (n)\n",
        "    c: 윗 대각 요소 (n-1)\n",
        "    b: 우변 벡터 (n)\n",
        "    \"\"\"\n",
        "    a = np.array(a, dtype=float)\n",
        "    d = np.array(d, dtype=float)\n",
        "    c = np.array(c, dtype=float)\n",
        "    b = np.array(b, dtype=float)\n",
        "\n",
        "    # 전진 소거 과정\n",
        "    for i in range(1, n):\n",
        "        xmult = a[i-1] / d[i-1]\n",
        "        d[i] -= xmult * c[i-1]\n",
        "        b[i] -= xmult * b[i-1]\n",
        "\n",
        "    # 역대입 과정\n",
        "    x = np.zeros(n)\n",
        "    x[-1] = b[-1] / d[-1]\n",
        "    for i in range(n-2, -1, -1):\n",
        "        x[i] = (b[i] - c[i] * x[i+1]) / d[i]\n",
        "\n",
        "    return x"
      ],
      "metadata": {
        "id": "7hpcLzGc3Kf5"
      },
      "execution_count": 24,
      "outputs": []
    },
    {
      "cell_type": "code",
      "source": [
        "# 3중 대각 행렬 시스템 테스트\n",
        "a = [1, 1, 1, 1]\n",
        "d = [4, 4, 4, 4, 4]\n",
        "c = [1, 1, 1, 1]\n",
        "b = [5, 5, 5, 5, 5]\n",
        "n = len(d)\n",
        "\n",
        "x = tri(n, a, d, c, b)\n",
        "print(\"3중 대각 행렬 시스템 해 x:\")\n",
        "print(x)\n"
      ],
      "metadata": {
        "colab": {
          "base_uri": "https://localhost:8080/"
        },
        "id": "4MkpdCWG-QjR",
        "outputId": "68229435-3635-4718-dfaa-592fe63eaa28"
      },
      "execution_count": 25,
      "outputs": [
        {
          "output_type": "stream",
          "name": "stdout",
          "text": [
            "3중 대각 행렬 시스템 해 x:\n",
            "[1.05769231 0.76923077 0.86538462 0.76923077 1.05769231]\n"
          ]
        }
      ]
    },
    {
      "cell_type": "code",
      "source": [
        "def penta(n, e, a, d, c, f, b):\n",
        "    \"\"\"\n",
        "    5중 대각 행렬 시스템을 푸는 알고리즘 (Penta-Diagonal System)\n",
        "    e: 하단 2번째 대각선 요소 (n-2)\n",
        "    a: 하단 1번째 대각선 요소 (n-1)\n",
        "    d: 주 대각선 요소 (n)\n",
        "    c: 상단 1번째 대각선 요소 (n-1)\n",
        "    f: 상단 2번째 대각선 요소 (n-2)\n",
        "    b: 우변 벡터 (n)\n",
        "    \"\"\"\n",
        "    e = np.array(e, dtype=float)\n",
        "    a = np.array(a, dtype=float)\n",
        "    d = np.array(d, dtype=float)\n",
        "    c = np.array(c, dtype=float)\n",
        "    f = np.array(f, dtype=float)\n",
        "    b = np.array(b, dtype=float)\n",
        "\n",
        "    r = a[0]\n",
        "    s = a[1]\n",
        "    t = e[0]\n",
        "\n",
        "    for i in range(1, n-1):\n",
        "        xmult = r / d[i-1]\n",
        "        d[i] -= xmult * c[i-1]\n",
        "        c[i] -= xmult * f[i-1]\n",
        "        b[i] -= xmult * b[i-1]\n",
        "\n",
        "        xmult = t / d[i-1]\n",
        "        r = s - (xmult * c[i-1])\n",
        "        d[i+1] -= xmult * f[i-1]\n",
        "        b[i+1] -= xmult * b[i-1]\n",
        "        s = a[i+1]\n",
        "        t = e[i]\n",
        "\n",
        "    xmult = r / d[n-2]\n",
        "    d[n-1] -= xmult * c[n-2]\n",
        "\n",
        "    x = np.zeros(n)\n",
        "    x[n-1] = (b[n-1] - (xmult * b[n-2])) / d[n-1]\n",
        "    x[n-2] = (b[n-2] - c[n-2] * x[n-1]) / d[n-2]\n",
        "\n",
        "    for i in range(n-3, -1, -1):\n",
        "        x[i] = (b[i] - f[i] * x[i+2] - c[i] * x[i+1]) / d[i]\n",
        "\n",
        "    return x"
      ],
      "metadata": {
        "id": "r1XACqP--J4k"
      },
      "execution_count": 36,
      "outputs": []
    },
    {
      "cell_type": "code",
      "source": [
        "# 5중 대각 행렬 시스템 테스트\n",
        "e = [0.5, 0.5]\n",
        "a = [1, 1, 1]\n",
        "d = [4, 4, 4, 4]\n",
        "c = [1, 1, 1]\n",
        "f = [0.5, 0.5]\n",
        "b = [5, 5, 5, 5]\n",
        "n = len(d)\n",
        "\n",
        "x = penta(n, e, a, d, c, f, b)\n",
        "print(\"5중 대각 행렬 시스템 해 x:\")\n",
        "print(x)\n"
      ],
      "metadata": {
        "colab": {
          "base_uri": "https://localhost:8080/",
          "height": 349
        },
        "id": "cxizZ9xU_B8Q",
        "outputId": "64b64d79-2a52-414f-d0a7-c1750e3f1f39"
      },
      "execution_count": 37,
      "outputs": [
        {
          "output_type": "error",
          "ename": "IndexError",
          "evalue": "index 3 is out of bounds for axis 0 with size 3",
          "traceback": [
            "\u001b[0;31m---------------------------------------------------------------------------\u001b[0m",
            "\u001b[0;31mIndexError\u001b[0m                                Traceback (most recent call last)",
            "\u001b[0;32m<ipython-input-37-60a9efadfd17>\u001b[0m in \u001b[0;36m<cell line: 0>\u001b[0;34m()\u001b[0m\n\u001b[1;32m      8\u001b[0m \u001b[0mn\u001b[0m \u001b[0;34m=\u001b[0m \u001b[0mlen\u001b[0m\u001b[0;34m(\u001b[0m\u001b[0md\u001b[0m\u001b[0;34m)\u001b[0m\u001b[0;34m\u001b[0m\u001b[0;34m\u001b[0m\u001b[0m\n\u001b[1;32m      9\u001b[0m \u001b[0;34m\u001b[0m\u001b[0m\n\u001b[0;32m---> 10\u001b[0;31m \u001b[0mx\u001b[0m \u001b[0;34m=\u001b[0m \u001b[0mpenta\u001b[0m\u001b[0;34m(\u001b[0m\u001b[0mn\u001b[0m\u001b[0;34m,\u001b[0m \u001b[0me\u001b[0m\u001b[0;34m,\u001b[0m \u001b[0ma\u001b[0m\u001b[0;34m,\u001b[0m \u001b[0md\u001b[0m\u001b[0;34m,\u001b[0m \u001b[0mc\u001b[0m\u001b[0;34m,\u001b[0m \u001b[0mf\u001b[0m\u001b[0;34m,\u001b[0m \u001b[0mb\u001b[0m\u001b[0;34m)\u001b[0m\u001b[0;34m\u001b[0m\u001b[0;34m\u001b[0m\u001b[0m\n\u001b[0m\u001b[1;32m     11\u001b[0m \u001b[0mprint\u001b[0m\u001b[0;34m(\u001b[0m\u001b[0;34m\"5중 대각 행렬 시스템 해 x:\"\u001b[0m\u001b[0;34m)\u001b[0m\u001b[0;34m\u001b[0m\u001b[0;34m\u001b[0m\u001b[0m\n\u001b[1;32m     12\u001b[0m \u001b[0mprint\u001b[0m\u001b[0;34m(\u001b[0m\u001b[0mx\u001b[0m\u001b[0;34m)\u001b[0m\u001b[0;34m\u001b[0m\u001b[0;34m\u001b[0m\u001b[0m\n",
            "\u001b[0;32m<ipython-input-36-0378d5b47d9c>\u001b[0m in \u001b[0;36mpenta\u001b[0;34m(n, e, a, d, c, f, b)\u001b[0m\n\u001b[1;32m     30\u001b[0m         \u001b[0md\u001b[0m\u001b[0;34m[\u001b[0m\u001b[0mi\u001b[0m\u001b[0;34m+\u001b[0m\u001b[0;36m1\u001b[0m\u001b[0;34m]\u001b[0m \u001b[0;34m-=\u001b[0m \u001b[0mxmult\u001b[0m \u001b[0;34m*\u001b[0m \u001b[0mf\u001b[0m\u001b[0;34m[\u001b[0m\u001b[0mi\u001b[0m\u001b[0;34m-\u001b[0m\u001b[0;36m1\u001b[0m\u001b[0;34m]\u001b[0m\u001b[0;34m\u001b[0m\u001b[0;34m\u001b[0m\u001b[0m\n\u001b[1;32m     31\u001b[0m         \u001b[0mb\u001b[0m\u001b[0;34m[\u001b[0m\u001b[0mi\u001b[0m\u001b[0;34m+\u001b[0m\u001b[0;36m1\u001b[0m\u001b[0;34m]\u001b[0m \u001b[0;34m-=\u001b[0m \u001b[0mxmult\u001b[0m \u001b[0;34m*\u001b[0m \u001b[0mb\u001b[0m\u001b[0;34m[\u001b[0m\u001b[0mi\u001b[0m\u001b[0;34m-\u001b[0m\u001b[0;36m1\u001b[0m\u001b[0;34m]\u001b[0m\u001b[0;34m\u001b[0m\u001b[0;34m\u001b[0m\u001b[0m\n\u001b[0;32m---> 32\u001b[0;31m         \u001b[0ms\u001b[0m \u001b[0;34m=\u001b[0m \u001b[0ma\u001b[0m\u001b[0;34m[\u001b[0m\u001b[0mi\u001b[0m\u001b[0;34m+\u001b[0m\u001b[0;36m1\u001b[0m\u001b[0;34m]\u001b[0m\u001b[0;34m\u001b[0m\u001b[0;34m\u001b[0m\u001b[0m\n\u001b[0m\u001b[1;32m     33\u001b[0m         \u001b[0mt\u001b[0m \u001b[0;34m=\u001b[0m \u001b[0me\u001b[0m\u001b[0;34m[\u001b[0m\u001b[0mi\u001b[0m\u001b[0;34m]\u001b[0m\u001b[0;34m\u001b[0m\u001b[0;34m\u001b[0m\u001b[0m\n\u001b[1;32m     34\u001b[0m \u001b[0;34m\u001b[0m\u001b[0m\n",
            "\u001b[0;31mIndexError\u001b[0m: index 3 is out of bounds for axis 0 with size 3"
          ]
        }
      ]
    },
    {
      "cell_type": "markdown",
      "source": [
        "*  배열의 길이를 초과하지 않도록 조건을 추가\n"
      ],
      "metadata": {
        "id": "Qno2c7g5BDW9"
      }
    },
    {
      "cell_type": "code",
      "source": [
        "def penta(n, e, a, d, c, f, b):\n",
        "    \"\"\"\n",
        "    5중 대각 행렬 시스템을 푸는 알고리즘 (Penta-Diagonal System)\n",
        "    e: 하단 2번째 대각선 요소 (n-2)\n",
        "    a: 하단 1번째 대각선 요소 (n-1)\n",
        "    d: 주 대각선 요소 (n)\n",
        "    c: 상단 1번째 대각선 요소 (n-1)\n",
        "    f: 상단 2번째 대각선 요소 (n-2)\n",
        "    b: 우변 벡터 (n)\n",
        "    \"\"\"\n",
        "    e = np.array(e, dtype=float)\n",
        "    a = np.array(a, dtype=float)\n",
        "    d = np.array(d, dtype=float)\n",
        "    c = np.array(c, dtype=float)\n",
        "    f = np.array(f, dtype=float)\n",
        "    b = np.array(b, dtype=float)\n",
        "\n",
        "    r = a[0] if len(a) > 0 else 0\n",
        "    s = a[1] if len(a) > 1 else 0\n",
        "    t = e[0] if len(e) > 0 else 0\n",
        "\n",
        "    for i in range(1, n-2):\n",
        "        xmult = r / d[i-1]\n",
        "        d[i] -= xmult * c[i-1]\n",
        "        c[i] -= xmult * f[i-1]\n",
        "        b[i] -= xmult * b[i-1]\n",
        "\n",
        "        xmult = t / d[i-1]\n",
        "        r = s - (xmult * c[i-1]) if i < len(c) else 0\n",
        "        d[i+1] -= xmult * f[i-1] if i+1 < len(d) else 0\n",
        "        b[i+1] -= xmult * b[i-1] if i+1 < len(b) else 0\n",
        "        s = a[i+1] if i+1 < len(a) else 0\n",
        "        t = e[i] if i < len(e) else 0\n",
        "\n",
        "    xmult = r / d[n-2]\n",
        "    d[n-1] -= xmult * c[n-2]\n",
        "\n",
        "    x = np.zeros(n)\n",
        "    x[n-1] = (b[n-1] - (xmult * b[n-2])) / d[n-1]\n",
        "    x[n-2] = (b[n-2] - c[n-2] * x[n-1]) / d[n-2]\n",
        "\n",
        "    for i in range(n-3, -1, -1):\n",
        "        x[i] = (b[i] - (f[i] * x[i+2] if i+2 < len(x) else 0) - c[i] * x[i+1]) / d[i]\n",
        "\n",
        "    return x"
      ],
      "metadata": {
        "id": "_68wwHrtBGFO"
      },
      "execution_count": 38,
      "outputs": []
    },
    {
      "cell_type": "code",
      "source": [
        "# 5중 대각 행렬 시스템 테스트\n",
        "e = [0.5, 0.5]\n",
        "a = [1, 1, 1]\n",
        "d = [4, 4, 4, 4]\n",
        "c = [1, 1, 1]\n",
        "f = [0.5, 0.5]\n",
        "b = [5, 5, 5, 5]\n",
        "n = len(d)\n",
        "\n",
        "x = penta(n, e, a, d, c, f, b)\n",
        "print(\"5중 대각 행렬 시스템 해 x:\")\n",
        "print(x)"
      ],
      "metadata": {
        "colab": {
          "base_uri": "https://localhost:8080/"
        },
        "id": "v3Roh7ae_LOb",
        "outputId": "b035fb51-8853-43d8-b4d2-f397fc5b7585"
      },
      "execution_count": 39,
      "outputs": [
        {
          "output_type": "stream",
          "name": "stdout",
          "text": [
            "5중 대각 행렬 시스템 해 x:\n",
            "[0.97951681 0.66176471 0.84033613 1.06617647]\n"
          ]
        }
      ]
    },
    {
      "cell_type": "code",
      "source": [
        "#1번\n"
      ],
      "metadata": {
        "id": "sNopmXulBQHr"
      },
      "execution_count": null,
      "outputs": []
    }
  ]
}